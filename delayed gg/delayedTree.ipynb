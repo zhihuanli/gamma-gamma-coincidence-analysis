{
 "cells": [
  {
   "cell_type": "markdown",
   "metadata": {},
   "source": [
    "## 1.从衰变数据中生成mother-daughter的 $\\gamma-\\gamma$关联信息\n",
    "\n",
    "生成test.h 和 test.C\n",
    "\n",
    "root -l decay46_123_all.root \n",
    "\n",
    "[root 0] tree->MakeClass(\"test\"); "
   ]
  },
  {
   "cell_type": "code",
   "execution_count": 1,
   "metadata": {},
   "outputs": [],
   "source": [
    ".L test.C "
   ]
  },
  {
   "cell_type": "code",
   "execution_count": 2,
   "metadata": {},
   "outputs": [],
   "source": [
    "class ana : public test // 从test类中继承其成员变量和成员函数\n",
    "{\n",
    " public:\n",
    "   Double_t dt0,dt1;\n",
    "   Int_t ahit0,ahit1;\n",
    "   Int_t chit0,chit1;\n",
    "   Int_t chit01;\n",
    "   Long64_t bts0;\n",
    "   Double_t ae0[1000],ae1[1000];\n",
    "   Double_t cxe0[1000],cye0[1000];\n",
    "   double_t cxe1[1000],cye1[1000];\n",
    "   Double_t cde0[1000],cde1[1000];\n",
    "   ana(TTree* tree): test(tree) {} \n",
    "   virtual ~ana() {};\n",
    "    \n",
    "   virtual void BranchDelayed(TTree *tree){\n",
    "   if(!tree)return;\n",
    "    //decay from mother\n",
    "   tree->Branch(\"dt0\", &dt0,\"dt0/D\");\n",
    "   tree->Branch(\"ahit0\", &ahit0,\"ahit0/I\");\n",
    "   tree->Branch(\"ae0\", &ae0,\"ae0[ahit0]/D\");//signle gamma\n",
    "   tree->Branch(\"chit0\", &chit0,\"chit0/I\");\n",
    "   tree->Branch(\"cxe0\", &cxe0,\"cxe0[chit0]/D\");//gamma-gamma\n",
    "   tree->Branch(\"cye0\", &cye0,\"cye0[chit0]/D\");\n",
    "\n",
    "    //decay from daughter\n",
    "   tree->Branch(\"dt1\", &dt1,\"dt1/D\");\n",
    "   tree->Branch(\"ahit1\", &ahit1,\"ahit1/I\");//single gamma\n",
    "   tree->Branch(\"ae1\", &ae1,\"ae0[ahit1]/D\");\n",
    "   tree->Branch(\"chit1\", &chit1,\"chit1/I\");\n",
    "   tree->Branch(\"cxe1\", &cxe1,\"cxe1[chit1]/D\");//gamma-gamma\n",
    "   tree->Branch(\"cye1\", &cye1,\"cye1[chit1]/D\");\n",
    "     \n",
    "    //mother gamma -daughter gamma \n",
    "   tree->Branch(\"chit01\", &chit01,\"chit01/I\");\n",
    "   tree->Branch(\"cde0\", &cde0,\"cde0[chit01]/D\");\n",
    "   tree->Branch(\"cde1\", &cde1,\"cde1[chit01]/D\");\n",
    " };\n",
    " //load selected branches - much faster than tree->GetEntry();   \n",
    " virtual void GetEvents(Long64_t entry){\n",
    "      b_decaytime->GetEntry(entry);\n",
    "      b_bts->GetEntry(entry);\n",
    "      b_gts->GetEntry(entry);\n",
    "      b_ahit->GetEntry(entry);\n",
    "      b_ae->GetEntry(entry);\n",
    "      b_at->GetEntry(entry);\n",
    "      b_cahit->GetEntry(entry);\n",
    "      b_caxe->GetEntry(entry);\n",
    "      b_caye->GetEntry(entry);\n",
    "      b_caxt->GetEntry(entry);\n",
    "      b_cayt->GetEntry(entry); \n",
    "  };\n",
    "    \n",
    "//total gamma\n",
    " virtual void GetAe(int &ahit1, double *ae1)\n",
    " {\n",
    "   int n=0;\n",
    "   for(int i=0;i<ahit;i++) {\n",
    "     if(at[i]>0 && at[i]<1000 ) {\n",
    "       ae1[n]=ae[i];\n",
    "       n++;\n",
    "     }\n",
    "   }\n",
    "   ahit1=n;\n",
    " };\n",
    "    \n",
    "// gamma-gamma coincidence\n",
    " virtual void GetCge(int &chit, double *cxe, double * cye)\n",
    " {\n",
    "   int j=0;\n",
    "   for(int i=0;i<cahit;i++) {\n",
    "     if(abs(caxt[i]-cayt[i])<200 && caxt[i]>0 &&caxt[i]<1000 && cayt[i]>0&& cayt[i]<1000) {\n",
    "       cxe[j]=caxe[i];\n",
    "       cye[j]=caye[i];\n",
    "       j++;\n",
    "     }\n",
    "   }\n",
    "  chit=j;    \n",
    " };\n",
    "    \n",
    "//mother-daughter correlation\n",
    "virtual void GetAe0Ae1(int &chit01, double *cae0, double *cae1 )\n",
    " {\n",
    "   int n=0;\n",
    "   for(int i=0;i<ahit0;i++) {\n",
    "     for(int j=0;j<ahit1;j++) {\n",
    "       cae0[n]=ae0[i];\n",
    "       cae1[n]=ae1[j];\n",
    "       n++;\n",
    "     }\n",
    "   }\n",
    "   chit01=n;\n",
    " };\n",
    "    \n",
    "//analysis\n",
    "virtual void Analysis(TTree *tree)\n",
    "{\n",
    "    BranchDelayed(tree);\n",
    "    Long64_t nentries = fChain->GetEntriesFast();\n",
    "    for (Long64_t jentry0=0; jentry0<nentries;jentry0++){\n",
    "      GetEvents(jentry0);\n",
    "      if(decaytime<1000 ) {//deaytime<3*T1/2, decay from mother.\n",
    "          //decay from mother\n",
    "            bts0=bts;  //get timestamp of beam\n",
    "            dt0=decaytime;\n",
    "            GetAe(ahit0,ae0);\n",
    "            if(ahit0==0) continue;\n",
    "            GetCge(chit0,cxe0,cye0);\n",
    "            //decay from daughter.\n",
    "          for (Long64_t jentry1=jentry0+1; jentry1<nentries;jentry1++){\n",
    "                GetEvents(jentry1);\n",
    "                if(bts > bts0) break;//same pixel\n",
    "                if(bts==bts0 && decaytime-dt0<4000) { //deaytime-dt0<3*T1/2, decay from daughter.\n",
    "                      dt1=decaytime;\n",
    "                      GetAe(ahit1,ae1);\n",
    "                      GetCge(chit1,cxe1,cye1);\n",
    "                      GetAe0Ae1(chit01,cde0,cde1);//mother -daughter\n",
    "                      if(ahit1!=0) tree->Fill();\n",
    "                }// if\n",
    "          }//jentry1 loop\n",
    "     }//if\n",
    "     if(jentry0%50000==0)cout<<\".\";\n",
    "    }//jentry0 loop\n",
    "    cout<<endl;\n",
    "    cout<<\"Done!\"<<endl;\n",
    "  };   \n",
    "};\n"
   ]
  },
  {
   "cell_type": "code",
   "execution_count": 3,
   "metadata": {},
   "outputs": [],
   "source": [
    "TFile *fin=new TFile(\"../gammaData/decay46_123_all.root\");\n",
    "TTree *treein=(TTree*) fin->Get(\"tree\");\n",
    "ana *ana1 = new ana(treein);"
   ]
  },
  {
   "cell_type": "code",
   "execution_count": 4,
   "metadata": {},
   "outputs": [],
   "source": [
    "TFile *fout=new TFile(\"d46_123.root\",\"RECREATE\");\n",
    "TTree *treeout=new TTree(\"tree\",\"delayed gamma-gamma\");"
   ]
  },
  {
   "cell_type": "code",
   "execution_count": null,
   "metadata": {},
   "outputs": [
    {
     "name": "stdout",
     "output_type": "stream",
     "text": [
      "......................................................................................................."
     ]
    }
   ],
   "source": [
    "ana1->Analysis(treeout);"
   ]
  },
  {
   "cell_type": "code",
   "execution_count": null,
   "metadata": {},
   "outputs": [],
   "source": [
    "fout->Write();\n",
    "fin->Close();\n",
    "fout->Close();"
   ]
  }
 ],
 "metadata": {
  "kernelspec": {
   "display_name": "ROOT C++",
   "language": "c++",
   "name": "root"
  },
  "language_info": {
   "codemirror_mode": "text/x-c++src",
   "file_extension": ".C",
   "mimetype": " text/x-c++src",
   "name": "c++"
  }
 },
 "nbformat": 4,
 "nbformat_minor": 2
}
