{
 "cells": [
  {
   "cell_type": "markdown",
   "metadata": {},
   "source": [
    "### 1. Generate $\\gamma-\\gamma$ matrix(TH2) from a ROOT file(TTree)"
   ]
  },
  {
   "cell_type": "code",
   "execution_count": null,
   "metadata": {},
   "outputs": [],
   "source": [
    "int root2hist(int run)\n",
    "{\n",
    "    TString fname=Form(\"./data/test%04d.root\",run);//modify by user\n",
    "    if(gSystem->AccessPathName(fname.Data())){\n",
    "       cout << fname.Data()<<\" does not exist\" << endl;\n",
    "       return 0;\n",
    "    } \n",
    "    TFile *f=new TFile(fname.Data());\n",
    "    TTree *tree=(TTree*) f->Get(\"t\");//user\n",
    "    int ghit;\n",
    "    double ge[100];\n",
    "    Long64_t gt[100];\n",
    "    tree->SetBranchAddress(\"nGammaOneEventAddBack\",&ghit);//user\n",
    "    tree->SetBranchAddress(\"nGammaEnergyAddBack\",&ge);//user\n",
    "    tree->SetBranchAddress(\"nGammaTimeAddBack\",&gt);//user\n",
    "    TH2F *hgg=new TH2F(\"hggl\",\"hggl\",4096,0,4096,4096,0,4096);//user\n",
    "    Long64_t nentries=tree->GetEntries();\n",
    "    cout<<run<<\",\"<<nentries<<endl;\n",
    "    for(Long64_t jentry=0;jentry<nentries;jentry++)  {\n",
    "        tree->GetEntry(jentry);\n",
    "        if(ghit<2) continue;\n",
    "        for(int i=0;i<ghit;i++) {\n",
    "            for(int j=0;j<ghit;j++) {\n",
    "                if(i==j) continue;\n",
    "                if(abs(gt[i]-gt[j])>18) continue; // coincidence time window\n",
    "                hgg->Fill(ge[i],ge[j]);\n",
    "                hgg->Fill(ge[j],ge[i]);\n",
    "            }\n",
    "        }\n",
    "    }\n",
    "    TFile *fout=new TFile(Form(\"hg%02d.root\",run),\"recreate\");\n",
    "    hgg->Write();\n",
    "    fout->Close();\n",
    "    f->Close();\n",
    "    return 1;  \n",
    "}"
   ]
  },
  {
   "cell_type": "code",
   "execution_count": null,
   "metadata": {},
   "outputs": [],
   "source": [
    "for(int i=5;i<78;i++)//user\n",
    "    root2hist(i);"
   ]
  },
  {
   "cell_type": "markdown",
   "metadata": {},
   "source": [
    "在终端中利用 hadd命令将所有生成的root文件合并成一个root文件 hgg.root\n",
    "- hadd hgg.root hg05.root hg06.root ...."
   ]
  }
 ],
 "metadata": {
  "kernelspec": {
   "display_name": "ROOT C++",
   "language": "c++",
   "name": "root"
  },
  "language_info": {
   "codemirror_mode": "text/x-c++src",
   "file_extension": ".C",
   "mimetype": " text/x-c++src",
   "name": "c++"
  }
 },
 "nbformat": 4,
 "nbformat_minor": 4
}
