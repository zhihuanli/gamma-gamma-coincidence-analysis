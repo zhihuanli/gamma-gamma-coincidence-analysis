{
 "cells": [
  {
   "cell_type": "markdown",
   "metadata": {},
   "source": [
    "### 2. Generate background subtructed $\\gamma-\\gamma$ matrix using Radware approch"
   ]
  },
  {
   "cell_type": "code",
   "execution_count": 1,
   "metadata": {},
   "outputs": [],
   "source": [
    "//%jsroot on\n",
    "TCanvas *c1=new TCanvas;"
   ]
  },
  {
   "cell_type": "markdown",
   "metadata": {},
   "source": [
    "### Input "
   ]
  },
  {
   "cell_type": "code",
   "execution_count": 2,
   "metadata": {},
   "outputs": [],
   "source": [
    "TString rootfile=\"hggl.root\";//input root file - user\n",
    "TString h2name=\"hggl\";//gg-matrix - user"
   ]
  },
  {
   "cell_type": "markdown",
   "metadata": {},
   "source": []
  },
  {
   "cell_type": "code",
   "execution_count": 3,
   "metadata": {},
   "outputs": [
    {
     "name": "stdout",
     "output_type": "stream",
     "text": [
      "4000,0,4000\n"
     ]
    }
   ],
   "source": [
    "TFile *fin=new TFile(rootfile.Data());\n",
    "TH2F *hg2xy=(TH2F*)fin->Get(h2name.Data()); //original gamma-gamma matrix\n",
    "int nbin=hg2xy->GetNbinsX();\n",
    "float xmin=hg2xy->GetXaxis()->GetBinLowEdge(1);\n",
    "float xmax=hg2xy->GetXaxis()->GetBinLowEdge(nbin+1);\n",
    "//1d total projection\n",
    "TH1F *hg2x=(TH1F*)hg2xy->ProjectionX(\"hg2x\",1,nbin);//total projection spectrum\n",
    "cout<<nbin<<\",\"<<xmin<<\",\"<<xmax<<endl;"
   ]
  },
  {
   "cell_type": "code",
   "execution_count": 4,
   "metadata": {},
   "outputs": [],
   "source": [
    "//matrix\n",
    "TH2F *hg2xyb=new TH2F(\"hg2xyb\",\"bg matrix\",nbin,xmin,xmax,nbin,xmin,xmax);//background matrix\n",
    "TH2F *hg2xyp=new TH2F(\"hg2xyp\",\"bg subtracted matrix\",nbin,xmin,xmax,nbin,xmin,xmax);//background subtracted matrix"
   ]
  },
  {
   "cell_type": "markdown",
   "metadata": {},
   "source": [
    "### Background spectrum\n",
    "- Change the second and third parameters of Background function to get the desired shape of the background spectrum."
   ]
  },
  {
   "cell_type": "code",
   "execution_count": 5,
   "metadata": {},
   "outputs": [],
   "source": [
    "TSpectrum *sa=new TSpectrum(200);\n",
    "TH1F *hg2xb=(TH1F*)sa->Background(hg2x,20,\"nosmoothing\");//background spectrum, user\n",
    "TH1F *hg2xp=new TH1F(\"hg2xp\",\"\",nbin,xmin,xmax);//peak spectrum"
   ]
  },
  {
   "cell_type": "code",
   "execution_count": 6,
   "metadata": {},
   "outputs": [
    {
     "data": {
      "image/png": "[encoded data removed]",
      "text/plain": [
       "<IPython.core.display.Image object>"
      ]
     },
     "metadata": {},
     "output_type": "display_data"
    }
   ],
   "source": [
    "hg2x->Draw();\n",
    "hg2xb->Draw(\"same\");\n",
    "c1->Draw();"
   ]
  },
  {
   "cell_type": "code",
   "execution_count": 7,
   "metadata": {},
   "outputs": [],
   "source": [
    "hg2xp->Add(hg2x,hg2xb,1,-1);  "
   ]
  },
  {
   "cell_type": "markdown",
   "metadata": {},
   "source": [
    "### Background subtructed gg matrix --Radware approch "
   ]
  },
  {
   "cell_type": "code",
   "execution_count": 8,
   "metadata": {},
   "outputs": [],
   "source": [
    "   //make background matrix - RADWARE approch\n",
    "   Double_t T,Pi,Pj,pi,pj,Bij;\n",
    "   T=hg2x->Integral();\n",
    "   int N=hg2x->GetNbinsX();\n",
    "   for(int i=1; i<=N; i++) {\n",
    "     for(int j=1; j<=N; j++) {\n",
    "       Pi=hg2x->GetBinContent(i);\n",
    "       Pj=hg2x->GetBinContent(j);\n",
    "       pi=hg2xp->GetBinContent(i);\n",
    "       pj=hg2xp->GetBinContent(j);\n",
    "       Bij=(Pi*Pj-pi*pj)/T;\n",
    "       Double_t x=hg2x->GetBinCenter(i);\n",
    "       Double_t y=hg2x->GetBinCenter(j);       \n",
    "       hg2xyb->Fill(x,y,Bij);\n",
    "     }\n",
    "   }\n",
    "   hg2xyp->Sumw2(0);\n",
    "   hg2xyp->Add(hg2xy,hg2xyb,1,-1);"
   ]
  },
  {
   "cell_type": "markdown",
   "metadata": {},
   "source": [
    "### output"
   ]
  },
  {
   "cell_type": "code",
   "execution_count": 9,
   "metadata": {},
   "outputs": [],
   "source": [
    "//output file\n",
    "TFile *fout=new TFile(\"hgglmatrix.root\",\"RECREATE\");//user\n",
    "hg2xyp->Write();\n",
    "fout->Close();"
   ]
  }
 ],
 "metadata": {
  "kernelspec": {
   "display_name": "ROOT C++",
   "language": "c++",
   "name": "root"
  },
  "language_info": {
   "codemirror_mode": "text/x-c++src",
   "file_extension": ".C",
   "mimetype": " text/x-c++src",
   "name": "c++"
  }
 },
 "nbformat": 4,
 "nbformat_minor": 4
}
